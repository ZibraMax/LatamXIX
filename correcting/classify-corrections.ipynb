{
 "cells": [
  {
   "cell_type": "markdown",
   "metadata": {},
   "source": [
    "# Step 3. Manual-code categorization of surface-forms and errors "
   ]
  },
  {
   "cell_type": "markdown",
   "metadata": {},
   "source": [
    "Among the corrections made by the LLM in the previous step"
   ]
  },
  {
   "cell_type": "code",
   "execution_count": 2,
   "metadata": {},
   "outputs": [],
   "source": [
    "import json\n",
    "import unicodedata\n",
    "import os\n",
    "import re\n",
    "import pandas as pd\n",
    "from string import punctuation\n",
    "import difflib\n",
    "punctuation += \" \""
   ]
  },
  {
   "cell_type": "code",
   "execution_count": 21,
   "metadata": {},
   "outputs": [],
   "source": [
    "def normalize(c): return unicodedata.normalize('NFKD', c).encode('ASCII', 'ignore').decode()\n",
    "\n",
    "def useful_chars(string): return re.sub(r'[^a-zA-ZÀ-ÿ]', '', string)\n",
    "\n",
    "def count_accent_changes(str1, str2):\n",
    "    if len(str1) != len(str2):\n",
    "        return -1\n",
    "\n",
    "    changes = 0\n",
    "    for char1, char2 in zip(str1, str2):\n",
    "        if char1 != char2 and normalize(char1) == normalize(char2):\n",
    "            changes += 1\n",
    "    return changes\n"
   ]
  },
  {
   "cell_type": "markdown",
   "metadata": {},
   "source": [
    "*Go back to this point to reset all the applied categorizations and start over the debugging process, when required.*"
   ]
  },
  {
   "cell_type": "code",
   "execution_count": 4,
   "metadata": {},
   "outputs": [],
   "source": [
    "CORRECTIONS_FILE = \"./correctionsLatam.json\"\n",
    "SURFACE_FORMS_FILE = \"../data/surfaceForms.json\"\n",
    "SURFACE_FORMS_FILE_NONACC = \"../data/surfaceFormsNonAccents.json\"\n",
    "ORTHOGRAPHIC_ERRORS_FILE = \"../data/orthographicErrors.json\"\n",
    "COLOR_PRINTING = True # for large corpus, set it to False\n",
    "current_step = 0\n",
    "\n",
    "df = pd.read_parquet(\"../data/pre-corrected-latam-xix.parquet\")\n",
    "\n",
    "with open(CORRECTIONS_FILE, 'r') as infile:\n",
    "    fixes = json.load(infile)\n",
    "\n",
    "if not os.path.exists(SURFACE_FORMS_FILE):\n",
    "    with open(SURFACE_FORMS_FILE, 'w') as outfile:\n",
    "        json.dump({}, outfile)\n",
    "surface_forms = dict()\n",
    "\n",
    "if not os.path.exists(SURFACE_FORMS_FILE_NONACC):\n",
    "    with open(SURFACE_FORMS_FILE_NONACC, 'w') as outfile:\n",
    "        json.dump({}, outfile)\n",
    "surface_forms_nacc = dict()\n",
    "\n",
    "if not os.path.exists(ORTHOGRAPHIC_ERRORS_FILE):\n",
    "    with open(ORTHOGRAPHIC_ERRORS_FILE, 'w') as outfile:\n",
    "        json.dump([], outfile)\n",
    "orthographic_errors = dict() # will be changed to list before saving"
   ]
  },
  {
   "cell_type": "code",
   "execution_count": 5,
   "metadata": {},
   "outputs": [
    {
     "data": {
      "text/plain": [
       "'La publicacion del Oso se harà dos veces cada semana, y constará de un pliego en cuarto ; ofreciendo à mas sus redactores, dar los gravados oportunos, siempre que lo exija el asunto de que trate. Redactado por un Num. 8. TEMA del Periodico. POLITICA MILITAR. OCTAVA SESION. Abierta la sesion á las dore y un minuto de la noche , 25 de Febrero de 1845 , con asistencia de todos los Señores Representantes, se leyó y aprobó la acta de la Asamblea anterior , ménos en lo tocante à la torre del Convento de Santo Domingo, punto que quedó para ventilarse en mejor ocasion. Enseguida se dió cuenta de una nota del Ejecutivo , referente à que urjía la necesidad de organizar un Ejército ; pues decia el Excmo. Decano: - \"Un poder sin bayonetas vale tanto como un cero puesto á la izquierda.\"'"
      ]
     },
     "execution_count": 5,
     "metadata": {},
     "output_type": "execute_result"
    }
   ],
   "source": [
    "df.loc[0, \"text\"]"
   ]
  },
  {
   "cell_type": "code",
   "execution_count": 6,
   "metadata": {},
   "outputs": [
    {
     "name": "stdout",
     "output_type": "stream",
     "text": [
      "114411 fixes to check\n",
      "0 surface forms found\n",
      "0 orthographic errors found\n"
     ]
    }
   ],
   "source": [
    "def add_to_surface(wrong, good, freq):\n",
    "    sf_t, real_t = wrong.lower(), good.lower()\n",
    "    sf_ws, real_ws = re.findall(r'\\w+', sf_t), re.findall(r'\\w+', real_t)\n",
    "\n",
    "    if len(sf_ws) == len(real_ws):\n",
    "        for sf,real in zip(sf_ws, real_ws):\n",
    "            if sf != real:\n",
    "                numaccentchanges = count_accent_changes(real, sf)\n",
    "                surface_forms[real] = surface_forms.get(real, dict())\n",
    "                surface_forms[real][sf] = surface_forms[real].get(sf, 0) + freq\n",
    "                if numaccentchanges < 1:\n",
    "                    surface_forms_nacc[real] = surface_forms_nacc.get(real, dict())\n",
    "                    surface_forms_nacc[real][sf] = surface_forms_nacc[real].get(sf, 0) + freq\n",
    "\n",
    "    else:\n",
    "        if sf_t != real_t:\n",
    "            numaccentchanges = count_accent_changes(real_t, sf_t)\n",
    "            surface_forms[real_t] = surface_forms.get(real_t, dict())\n",
    "            surface_forms[real_t][sf_t] = surface_forms[real_t].get(sf_t, 0) + freq\n",
    "            if numaccentchanges < 1:\n",
    "                surface_forms_nacc[real_t] = surface_forms_nacc.get(real_t, dict())\n",
    "                surface_forms_nacc[real_t][sf_t] = surface_forms_nacc[real_t].get(sf_t, 0) + freq\n",
    "\n",
    "def add_to_errors(fix):\n",
    "    for idx,widx1,widx2,ctx in fix['usages']:\n",
    "        orthographic_errors[(idx,widx1,widx2)] = {\n",
    "            \"prv\": fix['change'][0],\n",
    "            \"mod\": fix['change'][1],\n",
    "            \"ctx\": ctx\n",
    "        }\n",
    "\n",
    "def print_fix(wrong, good, freq, category):\n",
    "    if COLOR_PRINTING:\n",
    "        if category == \"SFRM\": \n",
    "            category = f\"[\\033[93m{category}\"\n",
    "        elif category == \"ERRR\":\n",
    "            category = f\"[\\033[95m{category}\"\n",
    "        else:\n",
    "            category = f\"[\\033[90m{category}\"\n",
    "        print(f\"{category}\\033[0m] (\\033[92m{freq}\\033[0m) \\033[91m{wrong}\\033[0m - \\033[94m{good}\\033[0m\")\n",
    "    else:\n",
    "        print(f\"[{category}] ({freq}) {wrong} - {good}\")\n",
    "\n",
    "def execute_prev_steps(step):\n",
    "    if step <= current_step + 1:\n",
    "        return\n",
    "    elif step - 2 > current_step:\n",
    "        raise Exception(f\"Execute step {step-2} first\")\n",
    "    else:\n",
    "        if step >= 2:\n",
    "            i = step-1\n",
    "            print(f\"Executing step {i}...\")\n",
    "            globals()[f\"step{i}\"](False)\n",
    "            status()\n",
    "\n",
    "status = lambda: print(f\"{len(fixes)} fixes to check\\n{len(surface_forms)} surface forms found\\n{len(orthographic_errors)} orthographic errors found\")\n",
    "status()"
   ]
  },
  {
   "cell_type": "markdown",
   "metadata": {},
   "source": [
    "## Manually-written steps for categorization:"
   ]
  },
  {
   "cell_type": "markdown",
   "metadata": {},
   "source": [
    "**NOTES:**\n",
    "\n",
    "- Each correction made by the LLM may be categorized as:\n",
    "  * **surface form**: with the method `add_to_surface`\n",
    "  * **orthographic error**: with the method `add_to_errors`\n",
    "  * **none**: just `pass` (skip) the correction\n",
    "\n",
    "- Each step has a `JUST_PRINT` variable; if it's True, the changes won't affect the variables. For debugging a particular step:\n",
    "  * First, **ALWAYS run all the previous steps with the `JUST_PRINT` variable set to False**\n",
    "  * Then, set the `JUST_PRINT` variable of the step you want to debug to True and run the step\n",
    "  * If you run the next step without running the previous one (with `JUST_PRINT`=False), it'll run the previous automatically."
   ]
  },
  {
   "cell_type": "code",
   "execution_count": 7,
   "metadata": {},
   "outputs": [],
   "source": [
    "SF_CHANGES = [\n",
    "    ('á','a'), ('a','á'),\n",
    "    ('é','e'), ('e','é'),\n",
    "    ('í','i'), ('i','í'),\n",
    "    ('ó','o'), ('o','ó'),\n",
    "    ('ú','u'), ('u','ú'),\n",
    "    ('i','y'), ('y','i'),\n",
    "    ('j','g'), ('g','j'),\n",
    "    ('v','b'), ('b','v'),\n",
    "    ('s','x'), ('x','s'),\n",
    "    ('j','x'), ('x','j'),\n",
    "    ('c','s'), ('s','c'),\n",
    "    ('s','z'), ('z','s'),\n",
    "    ('z','c'),\n",
    "    ('q','c'), # quatro\n",
    "    ('n','ñ'), # senor\n",
    "    ('ni','ñ'), # senior\n",
    "    ('k','qu'), # nikel\n",
    "    ('k','c'), # kiosko\n",
    "    ('ou','u'), # boulevares\n",
    "    ('s','bs'), ('bs','s'), # suscriciones, obscuro\n",
    "    ('c','pc'), # suscriciones\n",
    "    ('s','ns'), # trasportar\n",
    "    ('t','pt'), # Setiembre\n",
    "    ('rt','r'), # libertar\n",
    "    ('rr','r'),\n",
    "]\n",
    "# other common form is '...lo' -> 'lo ...' (e.g. cambiólo -> lo cambió)\n",
    "\n",
    "ERR_CHANGES = [\n",
    "    ('6','ó'), ('6','o'), ('1','y'), ('0','o'), ('4','a')\n",
    "]\n",
    "\n",
    "SF_EXCEPTIONS = [\n",
    "    \"presidenta\", \"sr.\", \"q'\", \"ud.\", \"d.\", \"usté\", \"apuntaciones\", \"comprofesores\",\n",
    "    \"diez y seis\", \"bien que\", \"de el\", \"costarrica\", \"hispano-america\"\n",
    "]\n",
    "\n",
    "ERR_EXCEPTIONS = [\n",
    "    \n",
    "]\n",
    "\n",
    "SKIP = [\n",
    "    \"sugestiones\", \"suerte\", \"camonel\"\n",
    "]"
   ]
  },
  {
   "cell_type": "markdown",
   "metadata": {},
   "source": [
    "### Step 1."
   ]
  },
  {
   "cell_type": "code",
   "execution_count": 8,
   "metadata": {},
   "outputs": [],
   "source": [
    "def diff(text1, text2):\n",
    "    sm = difflib.SequenceMatcher(None, text1, text2)\n",
    "    added = []\n",
    "    removed = []\n",
    "    modified = []\n",
    "    for opcode, a0, a1, b0, b1 in sm.get_opcodes():\n",
    "        sa = sm.a[a0:a1]\n",
    "        sb = sm.b[b0:b1]\n",
    "        match opcode:\n",
    "            case 'insert': added.append(sb)\n",
    "            case 'delete': removed.append(sa)\n",
    "            case 'replace': modified.append((sa,sb))\n",
    "            case _: pass\n",
    "    return added, removed, modified"
   ]
  },
  {
   "cell_type": "code",
   "execution_count": 16,
   "metadata": {},
   "outputs": [
    {
     "data": {
      "text/plain": [
       "(['lo '], ['lo'], [])"
      ]
     },
     "execution_count": 16,
     "metadata": {},
     "output_type": "execute_result"
    }
   ],
   "source": [
    "diff(normalize('viólo'), normalize('lo vio'))"
   ]
  },
  {
   "cell_type": "code",
   "execution_count": 13,
   "metadata": {},
   "outputs": [],
   "source": [
    "JUST_PRINT = False\n",
    "def sfrm(fix):\n",
    "    if JUST_PRINT: print_fix(*fix['change'], fix['freq'], \"SFRM\")\n",
    "    else: add_to_surface(*fix['change'], fix['freq'])\n",
    "\n",
    "def errr(fix):\n",
    "    if JUST_PRINT: print_fix(*fix['change'], fix['freq'], \"ERRR\")\n",
    "    else: add_to_errors(fix)\n",
    "\n",
    "def none(fix):\n",
    "    if JUST_PRINT: print_fix(*fix['change'], fix['freq'], \"NONE\")\n",
    "    #else: pass"
   ]
  },
  {
   "cell_type": "code",
   "execution_count": 22,
   "metadata": {},
   "outputs": [
    {
     "name": "stdout",
     "output_type": "stream",
     "text": [
      "[\u001b[93mSFRM\u001b[0m] (\u001b[92m31606\u001b[0m) \u001b[91má\u001b[0m - \u001b[94ma\u001b[0m\n",
      "[\u001b[93mSFRM\u001b[0m] (\u001b[92m3254\u001b[0m) \u001b[91mó\u001b[0m - \u001b[94mo\u001b[0m\n",
      "[\u001b[93mSFRM\u001b[0m] (\u001b[92m2790\u001b[0m) \u001b[91mmas\u001b[0m - \u001b[94mmás\u001b[0m\n",
      "[\u001b[93mSFRM\u001b[0m] (\u001b[92m2731\u001b[0m) \u001b[91mfué\u001b[0m - \u001b[94mfue\u001b[0m\n",
      "[\u001b[93mSFRM\u001b[0m] (\u001b[92m2666\u001b[0m) \u001b[91mi\u001b[0m - \u001b[94my\u001b[0m\n",
      "[\u001b[95mERRR\u001b[0m] (\u001b[92m2355\u001b[0m) \u001b[91m6\u001b[0m - \u001b[94mo\u001b[0m\n",
      "[\u001b[93mSFRM\u001b[0m] (\u001b[92m1387\u001b[0m) \u001b[91mé\u001b[0m - \u001b[94me\u001b[0m\n",
      "[\u001b[90mNONE\u001b[0m] (\u001b[92m1237\u001b[0m) \u001b[91mdo\u001b[0m - \u001b[94mde\u001b[0m\n",
      "[\u001b[90mNONE\u001b[0m] (\u001b[92m868\u001b[0m) \u001b[91m&\u001b[0m - \u001b[94ma\u001b[0m\n",
      "[\u001b[90mNONE\u001b[0m] (\u001b[92m823\u001b[0m) \u001b[91mà\u001b[0m - \u001b[94ma\u001b[0m\n",
      "[\u001b[93mSFRM\u001b[0m] (\u001b[92m812\u001b[0m) \u001b[91mdia\u001b[0m - \u001b[94mdía\u001b[0m\n",
      "[\u001b[93mSFRM\u001b[0m] (\u001b[92m756\u001b[0m) \u001b[91mque\u001b[0m - \u001b[94mqué\u001b[0m\n",
      "[\u001b[93mSFRM\u001b[0m] (\u001b[92m750\u001b[0m) \u001b[91mel\u001b[0m - \u001b[94mél\u001b[0m\n",
      "[\u001b[93mSFRM\u001b[0m] (\u001b[92m636\u001b[0m) \u001b[91mtambien\u001b[0m - \u001b[94mtambién\u001b[0m\n",
      "[\u001b[93mSFRM\u001b[0m] (\u001b[92m599\u001b[0m) \u001b[91mhabia\u001b[0m - \u001b[94mhabía\u001b[0m\n",
      "[\u001b[93mSFRM\u001b[0m] (\u001b[92m547\u001b[0m) \u001b[91mdió\u001b[0m - \u001b[94mdio\u001b[0m\n",
      "[\u001b[90mNONE\u001b[0m] (\u001b[92m537\u001b[0m) \u001b[91mon\u001b[0m - \u001b[94men\u001b[0m\n",
      "[\u001b[93mSFRM\u001b[0m] (\u001b[92m526\u001b[0m) \u001b[91mdespues\u001b[0m - \u001b[94mdespués\u001b[0m\n",
      "[\u001b[93mSFRM\u001b[0m] (\u001b[92m498\u001b[0m) \u001b[91mnumero\u001b[0m - \u001b[94mnúmero\u001b[0m\n",
      "[\u001b[93mSFRM\u001b[0m] (\u001b[92m419\u001b[0m) \u001b[91mesta\u001b[0m - \u001b[94mestá\u001b[0m\n",
      "[\u001b[93mSFRM\u001b[0m] (\u001b[92m414\u001b[0m) \u001b[91msólo\u001b[0m - \u001b[94msolo\u001b[0m\n",
      "[\u001b[93mSFRM\u001b[0m] (\u001b[92m409\u001b[0m) \u001b[91mdias\u001b[0m - \u001b[94mdías\u001b[0m\n",
      "[\u001b[90mNONE\u001b[0m] (\u001b[92m379\u001b[0m) \u001b[91mIn\u001b[0m - \u001b[94mla\u001b[0m\n",
      "[\u001b[93mSFRM\u001b[0m] (\u001b[92m368\u001b[0m) \u001b[91msenor\u001b[0m - \u001b[94mseñor\u001b[0m\n",
      "[\u001b[90mNONE\u001b[0m] (\u001b[92m349\u001b[0m) \u001b[91mgrande\u001b[0m - \u001b[94mgran\u001b[0m\n",
      "[] ['de'] []\n",
      "114411 fixes to check\n",
      "0 surface forms found\n",
      "0 orthographic errors found\n"
     ]
    }
   ],
   "source": [
    "JUST_PRINT = True\n",
    "\n",
    "def step1():\n",
    "    global curent_step\n",
    "    execute_prev_steps(1)\n",
    "    if JUST_PRINT == False: curent_step=1\n",
    "\n",
    "    idx_remove = []\n",
    "    for i,fix in enumerate(fixes):\n",
    "        added, removed, modified = diff(fix['change'][0].lower(), fix['change'][1].lower())\n",
    "        if len(added)==0 and len(removed)==0:\n",
    "            if all([i in SF_CHANGES for i in modified]):\n",
    "                sfrm(fix)\n",
    "            elif all([i in ERR_CHANGES for i in modified]):\n",
    "                errr(fix)\n",
    "            else:\n",
    "                # TODO...\n",
    "                none(fix)\n",
    "        else:\n",
    "            # TODO... lo -lo\n",
    "            none(fix)\n",
    "            print(added, removed, modified)\n",
    "            break\n",
    "\n",
    "step1()\n",
    "status()"
   ]
  }
 ],
 "metadata": {
  "kernelspec": {
   "display_name": "Python 3",
   "language": "python",
   "name": "python3"
  },
  "language_info": {
   "codemirror_mode": {
    "name": "ipython",
    "version": 3
   },
   "file_extension": ".py",
   "mimetype": "text/x-python",
   "name": "python",
   "nbconvert_exporter": "python",
   "pygments_lexer": "ipython3",
   "version": "3.12.1"
  }
 },
 "nbformat": 4,
 "nbformat_minor": 2
}
