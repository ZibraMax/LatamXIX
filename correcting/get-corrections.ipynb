{
 "cells": [
  {
   "cell_type": "markdown",
   "metadata": {},
   "source": [
    "# Step 2. Find the specific corrections with the LLM responses"
   ]
  },
  {
   "cell_type": "code",
   "execution_count": 1,
   "metadata": {},
   "outputs": [
    {
     "name": "stderr",
     "output_type": "stream",
     "text": [
      "[nltk_data] Downloading package punkt to\n",
      "[nltk_data]     C:\\Users\\santi\\AppData\\Roaming\\nltk_data...\n",
      "[nltk_data]   Package punkt is already up-to-date!\n"
     ]
    }
   ],
   "source": [
    "import difflib\n",
    "import nltk\n",
    "nltk.download('punkt')\n",
    "from nltk.tokenize import wordpunct_tokenize as encode\n",
    "import re\n",
    "import pandas as pd\n",
    "import json"
   ]
  },
  {
   "cell_type": "markdown",
   "metadata": {},
   "source": [
    "### A first look to the original vs corrected response"
   ]
  },
  {
   "cell_type": "code",
   "execution_count": 2,
   "metadata": {},
   "outputs": [],
   "source": [
    "RESPONSES_FILE = \"./responsesLatam.json\"\n",
    "CORRECTIONS_FILE = \"./correctionsLatam.json\"\n",
    "\n",
    "df = pd.read_parquet(\"../data/cleaned-latam-xix.parquet\")\n",
    "with open(RESPONSES_FILE, \"r\") as f:\n",
    "    r = json.load(f)"
   ]
  },
  {
   "cell_type": "code",
   "execution_count": 3,
   "metadata": {},
   "outputs": [
    {
     "data": {
      "text/plain": [
       "{'text': 'La publicacion del Oso se harà dos veces cada se mana, y constará de un pliego en cuarto ; ofreciendo à mas sus redactores, dar los gravados oportunos, siempre que loexija el asuntode que trate. Redactado por un Num. 8. TEMA del Periodico. POLITICA MILITAR. OCTAVA SESION. Abierta la sesion á las dore y un minuto de la noche , 25 de Febrero de 1845 , con asistencia de todos los Señores Representantes, se leyó y aprobó la acta de la Asamblea anterior , ménos en lo tocante à la torre del Convento de Santo Domingo, punto que quedó para ventilarse en mejor ocasion. En seguida se dió cuenta de una nota del Ejecutivo , referente à que urjía la necesidad de organizar un Ejército ; pues decia el Excmo. Decano: - \"Un poder sin bayonetas vale tanto como un cero puesto á la izquierda.\"',\n",
       " 'resp': 'La publicación del Oso se hará dos veces cada semana, y constará de un pliego en cuarto; ofreciendo además sus redactores, dar los grabados oportunos, siempre que lo exija el asunto de que trate. Redactado por un Num. 8. TEMA del Periódico. POLÍTICA MILITAR. OCTAVA SESIÓN. Abierta la sesión a las dos y un minuto de la noche, 25 de Febrero de 1845, con asistencia de todos los Señores Representantes, se leyó y aprobó la acta de la Asamblea anterior, menos en lo tocante a la torre del Convento de Santo Domingo, punto que quedó para ventilarse en mejor ocasión. Enseguida se dio cuenta de una nota del Ejecutivo, referente a que urgía la necesidad de organizar un Ejército; pues decía el Excmo. Decano: - \"Un poder sin bayonetas vale tanto como un cero puesto a la izquierda.\"',\n",
       " 'finish_reason': 'stop'}"
      ]
     },
     "execution_count": 3,
     "metadata": {},
     "output_type": "execute_result"
    }
   ],
   "source": [
    "r['data'][0]"
   ]
  },
  {
   "cell_type": "markdown",
   "metadata": {},
   "source": [
    "As observed, some specific kind of OCR errors are easy to detect, when the corrected text is basically the same as the original, but with some characters in the middle (spaces or punctuation). For example:\n",
    "`se mana` → `semana`"
   ]
  },
  {
   "cell_type": "markdown",
   "metadata": {},
   "source": [
    "## 1. Define the diff algorithm"
   ]
  },
  {
   "cell_type": "code",
   "execution_count": 4,
   "metadata": {},
   "outputs": [],
   "source": [
    "WORDS_OF_CONTEXT = 5\n",
    "\n",
    "def get_indexes(text, idxs, gold):\n",
    "    text = text.replace(\"\\n\", \" \").replace(\"\\r\", \" \")\n",
    "    tok = encode(text)\n",
    "    wordstill = \"\"\n",
    "\n",
    "    for tk in tok[:idxs[0]]:\n",
    "        wordstill += tk\n",
    "        assert text.startswith(wordstill), f\"ERROR. Expected:\\n{text}\\nto start with\\n{wordstill}\"\n",
    "        match = re.match(r'[\\s]*', text[len(wordstill):])\n",
    "        spaces = match.group(0) if match else \"\"\n",
    "        wordstill += spaces\n",
    "\n",
    "    firstidx = len(wordstill)\n",
    "\n",
    "    for tk in tok[idxs[0]:idxs[1]+1]:\n",
    "        wordstill += tk\n",
    "        assert text.startswith(wordstill), f\"ERROR. Expected:\\n{text}\\nto start with\\n{wordstill}\"\n",
    "        match = re.match(r'[\\s]*', text[len(wordstill):])\n",
    "        spaces = match.group(0) if match else \"\"\n",
    "        wordstill += spaces\n",
    "\n",
    "    cut = wordstill[firstidx:len(wordstill)].rstrip() # this is the piece of text\n",
    "    lastidx = len(cut)+firstidx\n",
    "    assert cut.replace(\" \", \"\") == gold.replace(\" \", \"\"), f\"ERROR. Indexing not correct! expected {gold} but got {cut}\"\n",
    "    return cut, firstidx, lastidx\n",
    "\n",
    "def diff(text1, text2):\n",
    "    sm = difflib.SequenceMatcher(None, encode(text1), encode(text2))\n",
    "    added = []\n",
    "    removed = []\n",
    "    modified = []\n",
    "    for opcode, a0, a1, b0, b1 in sm.get_opcodes():\n",
    "        sa = ' '.join(sm.a[a0:a1])\n",
    "        sb = ' '.join(sm.b[b0:b1])\n",
    "        if opcode == 'insert':\n",
    "            added.append(sb)\n",
    "        elif opcode == 'delete':\n",
    "            removed.append(sa)\n",
    "        elif opcode == 'replace':\n",
    "            context = ' '.join(sm.a[max(0,a0-WORDS_OF_CONTEXT):min(a1+WORDS_OF_CONTEXT, len(sm.a))])\n",
    "            sa, start, end = get_indexes(text1, (a0, a1-1), sa)\n",
    "            sb, _, _ = get_indexes(text2, (b0, b1-1), sb)\n",
    "            modified.append((sa,sb,context,start,end))\n",
    "        elif opcode == 'equal':\n",
    "            pass\n",
    "        else:\n",
    "            raise RuntimeError(f\"Unknown opcode {opcode}\")\n",
    "    return added, removed, modified\n",
    "\n",
    "def remove_special(string):\n",
    "    return re.sub(r'[^\\w]', '', string)\n",
    "\n",
    "def ocr_error(p, m):\n",
    "    pws = remove_special(p).lower()\n",
    "    mws = remove_special(m).lower()\n",
    "    return pws == mws\n",
    "\n",
    "def printred(text, word):\n",
    "    index = 0\n",
    "    while index < len(text):\n",
    "        if text[index:index+len(word)] == word:\n",
    "            print('\\033[91m' + text[index:index+len(word)] + '\\033[0m', end='')\n",
    "            index += len(word)\n",
    "        else:\n",
    "            print(text[index], end='')\n",
    "            index += 1"
   ]
  },
  {
   "cell_type": "markdown",
   "metadata": {},
   "source": [
    "Usage example:"
   ]
  },
  {
   "cell_type": "code",
   "execution_count": 5,
   "metadata": {},
   "outputs": [
    {
     "name": "stdout",
     "output_type": "stream",
     "text": [
      "\u001b[91mcontra- tiempos\u001b[0m → \u001b[94mcontratiempos\u001b[0m [OCR error]\tcomo uno de los mayores contra - tiempos que se le podian ofrecer\n",
      "\u001b[91mpodian\u001b[0m → \u001b[94mpodían\u001b[0m [¿Surface form?]\t- tiempos que se le \u001b[91mpodian\u001b[0m ofrecer . Hizole retirar á\n",
      "\u001b[91mHizole\u001b[0m → \u001b[94mHízole\u001b[0m [¿Surface form?]\tse le podian ofrecer . \u001b[91mHizole\u001b[0m retirar á su quarto ,\n",
      "\u001b[91mquarto\u001b[0m → \u001b[94mcuarto\u001b[0m [¿Surface form?]\t. Hizole retirar á su \u001b[91mquarto\u001b[0m , y acudió con nueva\n",
      "\u001b[91mala de- fensa\u001b[0m → \u001b[94ma la defensa\u001b[0m [OCR error]\ty acudió con nueva irritación ala de - fensa del quartel ; pero se\n",
      "\u001b[91mquartel\u001b[0m → \u001b[94mcuartel\u001b[0m [¿Surface form?]\tala de - fensa del \u001b[91mquartel\u001b[0m ; pero se halló sin\n",
      "\u001b[91mpu- dieron\u001b[0m → \u001b[94mpudieron\u001b[0m [OCR error]\tá su Rey , ó pu - dieron conocer que iba herido ,\n",
      "\u001b[91msue len dexar\u001b[0m → \u001b[94msuelen dejar\u001b[0m [¿Surface form?]\t, ó fealdad espantosa que \u001b[91msue len dexar\u001b[0m en el ánimo al acabarse\n",
      "\u001b[91mquarto de Motezu ma\u001b[0m → \u001b[94mcuarto de Moctezuma\u001b[0m [¿Surface form?]\tPasó luego Hernán Cortés al \u001b[91mquarto de Motezu ma\u001b[0m , que volvió en si\n",
      "\u001b[91msi\u001b[0m → \u001b[94msí\u001b[0m [¿Surface form?]\tma , que volvió en \u001b[91msi\u001b[0m dentro de breve rato ;\n",
      "\u001b[91mfué\u001b[0m → \u001b[94mfue\u001b[0m [¿Surface form?]\timpaciente y despechado , que \u001b[91mfué\u001b[0m necesario detenerle para que no\n",
      "\u001b[91mmedicamen tos : prorumpia\u001b[0m → \u001b[94mmedicamentos: prorrumpía\u001b[0m [¿Surface form?]\tcurarle , porque desviaba los \u001b[91mmedicamen tos : prorumpia\u001b[0m en amenazas , que terminaban\n",
      "\u001b[91mpusi lanimidad\u001b[0m → \u001b[94mpusilanimidad\u001b[0m [OCR error]\tira , y declinaba en \u001b[91mpusi lanimidad\u001b[0m : la persuasión le ofendia\n",
      "\u001b[91mofendia, y los consue los\u001b[0m → \u001b[94mofendía, y los consuelos\u001b[0m [¿Surface form?]\tlanimidad : la persuasión le ofendia , y los consue los le irritaban : cobró el\n",
      "\u001b[91mdexarle\u001b[0m → \u001b[94mdejarle\u001b[0m [¿Surface form?]\tentendimiento ; y pareció conveniente \u001b[91mdexarle\u001b[0m por un rato , y\n",
      "\u001b[91má\u001b[0m → \u001b[94ma\u001b[0m [¿Surface form?]\t, y dar algún tiempo \u001b[91má\u001b[0m la consideración , pa ra\n",
      "\u001b[91mpa ra\u001b[0m → \u001b[94mpara\u001b[0m [OCR error]\ttiempo á la consideración , \u001b[91mpa ra\u001b[0m que se desembarazase de las\n",
      "\u001b[91mdisonan cias\u001b[0m → \u001b[94mdisonancias\u001b[0m [OCR error]\tse desembarazase de las primeras \u001b[91mdisonan cias\u001b[0m de la ofensa . Quedó\n",
      "\u001b[91má\u001b[0m → \u001b[94ma\u001b[0m [¿Surface form?]\tla ofensa . Quedó encargado \u001b[91má\u001b[0m su familia , y en\n",
      "\u001b[91mviolen cias\u001b[0m → \u001b[94mviolencias\u001b[0m [OCR error]\tcongoja , batallando con las \u001b[91mviolen cias\u001b[0m de su natural , y\n",
      "\u001b[91mtraydores\u001b[0m → \u001b[94mtraidores\u001b[0m [¿Surface form?]\tintentar el castigo de los \u001b[91mtraydores\u001b[0m\n"
     ]
    }
   ],
   "source": [
    "prv = \"\"\"10 CONQUISTA sinti\\u00f3 Cort\\u00e9s como uno de los mayores contra- tiempos que se le podian ofrecer. Hizole retirar \\u00e1 su quarto, y acudi\\u00f3 con nueva irritaci\\u00f3n ala de- fensa del quartel; pero se hall\\u00f3 sin enemigos en quien tomar satisfacci\\u00f3n de su enojo : porque al mismo instante que vieron caer \\u00e1 su Rey, \\u00f3 pu- dieron conocer que iba herido, se asombraron de su misma culpa, y huyendo sin saber de quien, 6 creyendo que llevaban \\u00e1 las espaldas la ira de sus Dioses, corrieron \\u00e1 esconderse del Cielo con aquel g\\u00e9nero de confusi\\u00f3n, \\u00f3 fealdad espantosa que sue len dexar en el \\u00e1nimo al acabarse de cometer los enormes delitos. Pas\\u00f3 luego Hern\\u00e1n Cort\\u00e9s al quarto de Motezu ma, que volvi\\u00f3 en si dentro de breve rato ; pero tan impaciente y despechado, que fu\\u00e9 necesario detenerle para que no se quitase la vida. No era posible curarle, porque desviaba los medicamen tos : prorumpia en amenazas, que terminaban en gemidos : esforz\\u00e1base la ira, y declinaba en pusi lanimidad : la persuasi\\u00f3n le ofendia, y los consue los le irritaban : cobr\\u00f3 el sentido para perder el entendimiento; y pareci\\u00f3 conveniente dexarle por un rato, y dar alg\\u00fan tiempo \\u00e1 la consideraci\\u00f3n, pa ra que se desembarazase de las primeras disonan cias de la ofensa. Qued\\u00f3 encargado \\u00e1 su familia, y en miserable congoja, batallando con las violen cias de su natural, y el abatimiento de su esp\\u00edritu, sin aliento para intentar el castigo de los traydores\"\"\"\n",
    "mod = \"\"\"Dado el texto entre ```, retorna \\u00fanicamente el texto corrigiendo los errores ortogr\\u00e1ficos:\\n\\n```10 CONQUISTA sinti\\u00f3 Cort\\u00e9s como uno de los mayores contratiempos que se le pod\\u00edan ofrecer. H\\u00edzole retirar \\u00e1 su cuarto, y acudi\\u00f3 con nueva irritaci\\u00f3n a la defensa del cuartel; pero se hall\\u00f3 sin enemigos en quien tomar satisfacci\\u00f3n de su enojo: porque al mismo instante que vieron caer \\u00e1 su Rey, \\u00f3 pudieron conocer que iba herido, se asombraron de su misma culpa, y huyendo sin saber de quien, 6 creyendo que llevaban \\u00e1 las espaldas la ira de sus Dioses, corrieron \\u00e1 esconderse del Cielo con aquel g\\u00e9nero de confusi\\u00f3n, \\u00f3 fealdad espantosa que suelen dejar en el \\u00e1nimo al acabarse de cometer los enormes delitos. Pas\\u00f3 luego Hern\\u00e1n Cort\\u00e9s al cuarto de Moctezuma, que volvi\\u00f3 en s\\u00ed dentro de breve rato; pero tan impaciente y despechado, que fue necesario detenerle para que no se quitase la vida. No era posible curarle, porque desviaba los medicamentos: prorrump\\u00eda en amenazas, que terminaban en gemidos: esforz\\u00e1base la ira, y declinaba en pusilanimidad: la persuasi\\u00f3n le ofend\\u00eda, y los consuelos le irritaban: cobr\\u00f3 el sentido para perder el entendimiento; y pareci\\u00f3 conveniente dejarle por un rato, y dar alg\\u00fan tiempo a la consideraci\\u00f3n, para que se desembarazase de las primeras disonancias de la ofensa. Qued\\u00f3 encargado a su familia, y en miserable congoja, batallando con las violencias de su natural, y el abatimiento de su esp\\u00edritu, sin aliento para intentar el castigo de los traidores\"\"\"\n",
    "\n",
    "added, removed, modified = diff(prv, mod)\n",
    "\n",
    "for p,m,context,_,_ in modified:\n",
    "    print(f\"\\033[91m{p}\\033[0m → \\033[94m{m}\\033[0m\", end='')\n",
    "    print(f\" [{'OCR error' if ocr_error(p,m) else '¿Surface form?'}]\", end='')\n",
    "    printred(f\"\\t{context}\", p)\n",
    "    print()"
   ]
  },
  {
   "cell_type": "markdown",
   "metadata": {},
   "source": [
    "## 2. Correct the simple OCR errors found in the whole dataset"
   ]
  },
  {
   "cell_type": "markdown",
   "metadata": {},
   "source": [
    "Previous:"
   ]
  },
  {
   "cell_type": "code",
   "execution_count": 6,
   "metadata": {},
   "outputs": [
    {
     "data": {
      "text/plain": [
       "'La publicacion del Oso se harà dos veces cada se mana, y constará de un pliego en cuarto ; ofreciendo à mas sus redactores, dar los gravados oportunos, siempre que loexija el asuntode que trate. Redactado por un Num. 8. TEMA del Periodico. POLITICA MILITAR. OCTAVA SESION. Abierta la sesion á las dore y un minuto de la noche , 25 de Febrero de 1845 , con asistencia de todos los Señores Representantes, se leyó y aprobó la acta de la Asamblea anterior , ménos en lo tocante à la torre del Convento de Santo Domingo, punto que quedó para ventilarse en mejor ocasion. En seguida se dió cuenta de una nota del Ejecutivo , referente à que urjía la necesidad de organizar un Ejército ; pues decia el Excmo. Decano: - \"Un poder sin bayonetas vale tanto como un cero puesto á la izquierda.\"'"
      ]
     },
     "execution_count": 6,
     "metadata": {},
     "output_type": "execute_result"
    }
   ],
   "source": [
    "r['data'][0][\"text\"]"
   ]
  },
  {
   "cell_type": "code",
   "execution_count": 7,
   "metadata": {},
   "outputs": [
    {
     "name": "stdout",
     "output_type": "stream",
     "text": [
      "Iteration 1 completed! (37238 OCR errors found)\n",
      "Iteration 2 completed! (183 OCR errors found)\n",
      "Iteration 3 completed! (2 OCR errors found)\n"
     ]
    }
   ],
   "source": [
    "it=0\n",
    "while True:\n",
    "    ocrcount = 0\n",
    "    errors = []\n",
    "\n",
    "    for i,d in enumerate(r['data']):\n",
    "        prv = d[\"text\"]\n",
    "        mod = d[\"resp\"]\n",
    "        try:\n",
    "            added, removed, modified = diff(prv, mod)\n",
    "        except AssertionError as e:\n",
    "            print(f\"Error at {i}:\\n{prv}\\n{mod}\")\n",
    "            raise e\n",
    "\n",
    "        er = list()\n",
    "        for p,m,context,idx1,idx2 in modified:\n",
    "            tup = (p,m)\n",
    "            isocr = ocr_error(p,m)\n",
    "            if isocr:\n",
    "                er.append({\"prv\":p, \"mod\":m, \"idx1\": idx1, \"idx2\":idx2, \"ctx\":context})\n",
    "                ocrcount += 1\n",
    "        errors.append(er)\n",
    "\n",
    "    if ocrcount == 0: break\n",
    "    assert len(errors) == len(df)\n",
    "\n",
    "    for i,e in enumerate(errors):\n",
    "        text = r['data'][i]['text']\n",
    "        chdif = 0\n",
    "        for v in e:\n",
    "            p = v['prv']\n",
    "            m = v['mod']\n",
    "            ctx = v['ctx']\n",
    "            idx1 = v['idx1'] - chdif\n",
    "            idx2 = v['idx2'] - chdif\n",
    "            text = text[:idx1] + m + text[idx2:]\n",
    "            chdif += len(p) - len(m)\n",
    "        df.loc[i, \"text\"] = text\n",
    "        r['data'][i]['text'] = text\n",
    "    \n",
    "    it+=1\n",
    "    print(f\"Iteration {it} completed! ({ocrcount} OCR errors found)\")"
   ]
  },
  {
   "cell_type": "markdown",
   "metadata": {},
   "source": [
    "After update of only OCR non-letter errors:"
   ]
  },
  {
   "cell_type": "code",
   "execution_count": 8,
   "metadata": {},
   "outputs": [
    {
     "data": {
      "text/plain": [
       "'La publicacion del Oso se harà dos veces cada semana, y constará de un pliego en cuarto ; ofreciendo à mas sus redactores, dar los gravados oportunos, siempre que lo exija el asunto de que trate. Redactado por un Num. 8. TEMA del Periodico. POLITICA MILITAR. OCTAVA SESION. Abierta la sesion á las dore y un minuto de la noche , 25 de Febrero de 1845 , con asistencia de todos los Señores Representantes, se leyó y aprobó la acta de la Asamblea anterior , ménos en lo tocante à la torre del Convento de Santo Domingo, punto que quedó para ventilarse en mejor ocasion. Enseguida se dió cuenta de una nota del Ejecutivo , referente à que urjía la necesidad de organizar un Ejército ; pues decia el Excmo. Decano: - \"Un poder sin bayonetas vale tanto como un cero puesto á la izquierda.\"'"
      ]
     },
     "execution_count": 8,
     "metadata": {},
     "output_type": "execute_result"
    }
   ],
   "source": [
    "r['data'][0][\"text\"]"
   ]
  },
  {
   "cell_type": "markdown",
   "metadata": {},
   "source": [
    "Save a first version of the corrected dataset:"
   ]
  },
  {
   "cell_type": "code",
   "execution_count": 10,
   "metadata": {},
   "outputs": [],
   "source": [
    "df.to_csv(\"../data/corrected-latam-xix.tsv\", sep=\"\\t\", index=False)\n",
    "df.to_parquet('../data/corrected-latam-xix.parquet')"
   ]
  },
  {
   "cell_type": "markdown",
   "metadata": {},
   "source": [
    "## 3. Save the rest of the corrections to classify"
   ]
  },
  {
   "cell_type": "markdown",
   "metadata": {},
   "source": [
    "The rest of the corrections can be classified between:\n",
    "- An OCR error with letter errors\n",
    "- Surface forms\n",
    "- None of the above (LLM hallucinations)"
   ]
  },
  {
   "cell_type": "code",
   "execution_count": 11,
   "metadata": {},
   "outputs": [],
   "source": [
    "fixes = dict()\n",
    "\n",
    "for i,d in enumerate(r['data']):\n",
    "    prv = d[\"text\"]\n",
    "    mod = d[\"resp\"]\n",
    "    try:\n",
    "        added, removed, modified = diff(prv, mod)\n",
    "    except AssertionError as e:\n",
    "        print(f\"Error at {i}:\\n{prv}\\n{mod}\")\n",
    "        raise e\n",
    "\n",
    "    for p,m,context,idx1,idx2 in modified:\n",
    "        tup = (p,m)\n",
    "        assert not ocr_error(p,m), f\"ERROR at {i}. OCR error detected: {p} -> {m} ({context})\"\n",
    "        fixes[tup] = fixes.get(tup, {'usages':[], 'freq':0})\n",
    "        fixes[tup]['usages'].append((i,idx1,idx2,context))\n",
    "        fixes[tup]['freq'] += 1\n",
    "\n",
    "fixes = dict(sorted(fixes.items(), key=lambda x: x[1]['freq'], reverse=True))\n",
    "\n",
    "fixes_list = []\n",
    "for k,v in fixes.items():\n",
    "    v['change'] = list(k)\n",
    "    fixes_list.append(v)"
   ]
  },
  {
   "cell_type": "code",
   "execution_count": 12,
   "metadata": {},
   "outputs": [
    {
     "data": {
      "text/plain": [
       "(['á', 'a'], 31606)"
      ]
     },
     "execution_count": 12,
     "metadata": {},
     "output_type": "execute_result"
    }
   ],
   "source": [
    "fixes_list[0]['change'], fixes_list[0]['freq']"
   ]
  },
  {
   "cell_type": "markdown",
   "metadata": {},
   "source": [
    "Save the corrections to a file:"
   ]
  },
  {
   "cell_type": "code",
   "execution_count": 13,
   "metadata": {},
   "outputs": [],
   "source": [
    "with open(CORRECTIONS_FILE, 'w') as outfile:\n",
    "    json.dump(fixes_list, outfile, indent=2)"
   ]
  }
 ],
 "metadata": {
  "kernelspec": {
   "display_name": "Python 3",
   "language": "python",
   "name": "python3"
  },
  "language_info": {
   "codemirror_mode": {
    "name": "ipython",
    "version": 3
   },
   "file_extension": ".py",
   "mimetype": "text/x-python",
   "name": "python",
   "nbconvert_exporter": "python",
   "pygments_lexer": "ipython3",
   "version": "3.12.1"
  }
 },
 "nbformat": 4,
 "nbformat_minor": 2
}
